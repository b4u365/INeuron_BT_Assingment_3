{
 "cells": [
  {
   "cell_type": "markdown",
   "id": "11f47018",
   "metadata": {},
   "source": [
    "1.Why are functions advantageous to have in your programs?"
   ]
  },
  {
   "cell_type": "markdown",
   "id": "16bd3e95",
   "metadata": {},
   "source": [
    "<font color=\"blue\">\n",
    "\n",
    "\n",
    "\n",
    "**Ans:**\n",
    "    \n",
    "Functions are help full in reusability: meaning not right same code for multiple times.\n",
    "Also, functions make program more readable.\n",
    "Functions make programme more organized.\n",
    "Functions can help in easy testing and debugging.\n",
    "\n",
    "\n",
    "\n",
    "    \n",
    "\n",
    "   "
   ]
  },
  {
   "cell_type": "markdown",
   "id": "85f8d2bd",
   "metadata": {},
   "source": [
    "2. When does the code in a function run: when it's specified or when it's called?"
   ]
  },
  {
   "cell_type": "markdown",
   "id": "8165b110",
   "metadata": {},
   "source": [
    "<font color=\"blue\">\n",
    "    \n",
    "**Ans:**\n",
    "    \n",
    "When it’s called(ex., Fun())\n",
    "\n"
   ]
  },
  {
   "cell_type": "markdown",
   "id": "812458cd",
   "metadata": {},
   "source": [
    "3. What statement creates a function?"
   ]
  },
  {
   "cell_type": "markdown",
   "id": "f6359dca",
   "metadata": {},
   "source": [
    "<font color=\"blue\">    \n",
    "\n",
    "**Ans:**\n",
    "    \n",
    "def fun(a,b):\n"
   ]
  },
  {
   "cell_type": "markdown",
   "id": "68a379da",
   "metadata": {},
   "source": [
    "4. What is the difference between a function and a function call?"
   ]
  },
  {
   "cell_type": "code",
   "execution_count": null,
   "id": "eedd894c",
   "metadata": {},
   "outputs": [],
   "source": []
  },
  {
   "cell_type": "markdown",
   "id": "3bb73323",
   "metadata": {},
   "source": [
    "<font color=\"blue\">\n",
    "    \n",
    "**Ans:**\n",
    "\n",
    "Function consists of program or logic needed for a specific task, however function call is to like using the function whenever it is called."
   ]
  },
  {
   "cell_type": "markdown",
   "id": "53d95e0b",
   "metadata": {},
   "source": [
    "5. How many global scopes are there in a Python program? How many local scopes?"
   ]
  },
  {
   "cell_type": "markdown",
   "id": "6fcaabce",
   "metadata": {},
   "source": [
    "<font color=\"blue\">\n",
    "\n",
    "**Ans:**\n",
    "    \n",
    "Function consists of program or logic needed for a specific task, however function call is to like be using the function whenever it is required.so there will be only one global scope, and multiple local scopes based on function calls. \n"
   ]
  },
  {
   "cell_type": "markdown",
   "id": "847858af",
   "metadata": {},
   "source": [
    "6. What happens to variables in a local scope when the function call returns?"
   ]
  },
  {
   "cell_type": "markdown",
   "id": "f58025fe",
   "metadata": {},
   "source": [
    "<font color=\"blue\">\n",
    "\n",
    "**Ans:**\n",
    "\n",
    "Variables in a local scope will be updated locally and limited to that function and will be not have any role after that functions "
   ]
  },
  {
   "cell_type": "markdown",
   "id": "ad075acd",
   "metadata": {},
   "source": [
    "7. What is the concept of a return value? Is it possible to have a return value in an expression?\n",
    "   "
   ]
  },
  {
   "cell_type": "markdown",
   "id": "5b313d90",
   "metadata": {},
   "source": [
    "<font color=\"blue\">\n",
    "\n",
    "**Ans:**\n",
    "\n",
    "Return gives the output or can be operation to output of the function \n",
    "Yes,  we can have expression as a return value like adding two values in return.\n",
    "\n"
   ]
  },
  {
   "cell_type": "code",
   "execution_count": 5,
   "id": "1d436a19",
   "metadata": {},
   "outputs": [
    {
     "data": {
      "text/plain": [
       "'spamspamspam'"
      ]
     },
     "execution_count": 5,
     "metadata": {},
     "output_type": "execute_result"
    }
   ],
   "source": [
    "'spam' * 3"
   ]
  },
  {
   "cell_type": "markdown",
   "id": "5a3b0058",
   "metadata": {},
   "source": [
    "8. If a function does not have a return statement, what is the return value of a call to that function?"
   ]
  },
  {
   "cell_type": "markdown",
   "id": "4398093d",
   "metadata": {},
   "source": [
    "<font color=\"blue\">\n",
    "\n",
    "**Ans:**\n",
    "\n",
    "    \n",
    "None.\n"
   ]
  },
  {
   "cell_type": "markdown",
   "id": "a72512a4",
   "metadata": {},
   "source": [
    "9. How do you make a function variable refer to the global variable?\n"
   ]
  },
  {
   "cell_type": "markdown",
   "id": "d7a42522",
   "metadata": {},
   "source": [
    "<font color=\"blue\">\n",
    "\n",
    "**Ans:**\n",
    "    \n",
    "'global' keyword before the variable name inside the function. This tells the indicated varaiable is a global variable."
   ]
  },
  {
   "cell_type": "markdown",
   "id": "8faff3b0",
   "metadata": {},
   "source": [
    "10. What is the data type of None?"
   ]
  },
  {
   "cell_type": "code",
   "execution_count": 4,
   "id": "d82eda8b",
   "metadata": {},
   "outputs": [
    {
     "data": {
      "text/plain": [
       "NoneType"
      ]
     },
     "execution_count": 4,
     "metadata": {},
     "output_type": "execute_result"
    }
   ],
   "source": [
    "result = None\n",
    "type(result)\n"
   ]
  },
  {
   "cell_type": "markdown",
   "id": "5b5f4f5c",
   "metadata": {},
   "source": [
    "11. What does the sentence import areallyourpetsnamederic do?"
   ]
  },
  {
   "cell_type": "markdown",
   "id": "0105eabe",
   "metadata": {},
   "source": [
    "<font color=\"blue\">\n",
    "\n",
    "**Ans:**"
   ]
  },
  {
   "cell_type": "code",
   "execution_count": 5,
   "id": "de2608e9",
   "metadata": {},
   "outputs": [
    {
     "ename": "ModuleNotFoundError",
     "evalue": "No module named 'areallyourpetsnamederic'",
     "output_type": "error",
     "traceback": [
      "\u001b[1;31m---------------------------------------------------------------------------\u001b[0m",
      "\u001b[1;31mModuleNotFoundError\u001b[0m                       Traceback (most recent call last)",
      "Cell \u001b[1;32mIn[5], line 1\u001b[0m\n\u001b[1;32m----> 1\u001b[0m \u001b[38;5;28;01mimport\u001b[39;00m \u001b[38;5;21;01mareallyourpetsnamederic\u001b[39;00m\n",
      "\u001b[1;31mModuleNotFoundError\u001b[0m: No module named 'areallyourpetsnamederic'"
     ]
    }
   ],
   "source": [
    "import areallyourpetsnamederic"
   ]
  },
  {
   "cell_type": "markdown",
   "id": "cc111770",
   "metadata": {},
   "source": [
    "will give this error :  No module named 'areallyourpetsnamederic'"
   ]
  },
  {
   "cell_type": "markdown",
   "id": "c4dd6f8d",
   "metadata": {},
   "source": [
    "12. If you had a bacon() feature in a spam module, what would you call it after importing spam?\n"
   ]
  },
  {
   "cell_type": "markdown",
   "id": "5e990a62",
   "metadata": {},
   "source": [
    "import spam\n",
    "spam.bacon()\n"
   ]
  },
  {
   "cell_type": "markdown",
   "id": "28aa88b1",
   "metadata": {},
   "source": [
    "13. What can you do to save a programme from crashing if it encounters an error?"
   ]
  },
  {
   "cell_type": "markdown",
   "id": "5baecf53",
   "metadata": {},
   "source": [
    "<font color=\"blue\">\n",
    "\n",
    "**Ans:**\n",
    "We will use try and accept functions to handle the error and accept the error handling."
   ]
  },
  {
   "cell_type": "markdown",
   "id": "78dd3428",
   "metadata": {},
   "source": [
    "14. What is the purpose of the try clause? What is the purpose of the except clause?"
   ]
  },
  {
   "cell_type": "markdown",
   "id": "223ea326",
   "metadata": {},
   "source": [
    "<font color=\"blue\">\n",
    "\n",
    "**Ans:**\n",
    "\n",
    "try will execute the logic and checks for the error, if a error is found it raises the error to except, if the error was being identified by except, the specified statement in except will be printed out ."
   ]
  }
 ],
 "metadata": {
  "kernelspec": {
   "display_name": "Python 3 (ipykernel)",
   "language": "python",
   "name": "python3"
  },
  "language_info": {
   "codemirror_mode": {
    "name": "ipython",
    "version": 3
   },
   "file_extension": ".py",
   "mimetype": "text/x-python",
   "name": "python",
   "nbconvert_exporter": "python",
   "pygments_lexer": "ipython3",
   "version": "3.10.9"
  }
 },
 "nbformat": 4,
 "nbformat_minor": 5
}
